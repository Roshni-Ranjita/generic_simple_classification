{
 "cells": [
  {
   "cell_type": "code",
   "execution_count": 6,
   "id": "15cd6ce6-c487-4984-bf0b-03d12dc06058",
   "metadata": {},
   "outputs": [],
   "source": [
    "#import\n",
    "import pandas as pd\n",
    "import numpy as np\n",
    "from sklearn.model_selection import train_test_split\n",
    "from sklearn.linear_model import LogisticRegression\n",
    "from sklearn.tree import DecisionTreeClassifier\n",
    "from sklearn.ensemble import RandomForestClassifier\n",
    "from sklearn.svm import SVC\n",
    "from sklearn.neighbors import KNeighborsClassifier\n",
    "from sklearn.naive_bayes import GaussianNB\n",
    "from sklearn.ensemble import GradientBoostingClassifier\n",
    "from sklearn.metrics import accuracy_score, classification_report, confusion_matrix"
   ]
  },
  {
   "cell_type": "code",
   "execution_count": 2,
   "id": "870c6656-63ec-494a-b77e-11d61f60fc71",
   "metadata": {},
   "outputs": [],
   "source": [
    "#Data\n",
    "test= pd.read_csv('test.csv')\n",
    "train= pd.read_csv('train.csv')\n",
    "y=train[\"defects\"]\n",
    "X= train.drop(\"defects\", axis=1)\n",
    "X_train, X_validation, y_train, y_validation = train_test_split(X, y, test_size=0.3, random_state=42)"
   ]
  },
  {
   "cell_type": "code",
   "execution_count": 3,
   "id": "838a9245-e011-4ea6-93fc-ebbb661ada62",
   "metadata": {},
   "outputs": [],
   "source": [
    "def classification_model(model):\n",
    "    model.fit(X_train, y_train)\n",
    "    y_pred = model.predict(X_validation)\n",
    "    accuracy = accuracy_score(y_validation, y_pred)\n",
    "    print(f'Accuracy: {accuracy:.2f}')\n",
    "    \n",
    "    # Display a classification report and confusion matrix\n",
    "    print(classification_report(y_validation, y_pred))\n",
    "    print('Confusion Matrix:')\n",
    "    print(confusion_matrix(y_validation, y_pred))"
   ]
  },
  {
   "cell_type": "code",
   "execution_count": 34,
   "id": "aea34ffe-7228-471f-93e7-d2d19ef3bab5",
   "metadata": {},
   "outputs": [
    {
     "name": "stdout",
     "output_type": "stream",
     "text": [
      "Logistic Regression\n",
      "Accuracy: 0.80\n",
      "              precision    recall  f1-score   support\n",
      "\n",
      "       False       0.82      0.95      0.88     23642\n",
      "        True       0.63      0.27      0.38      6887\n",
      "\n",
      "    accuracy                           0.80     30529\n",
      "   macro avg       0.73      0.61      0.63     30529\n",
      "weighted avg       0.78      0.80      0.77     30529\n",
      "\n",
      "Confusion Matrix:\n",
      "[[22552  1090]\n",
      " [ 5012  1875]]\n"
     ]
    }
   ],
   "source": [
    "#Logistic Regression\n",
    "LR_model = LogisticRegression(max_iter=2000)\n",
    "print(\"Logistic Regression\")\n",
    "classification_model(LR_model)\n",
    "#Decision Trees\n",
    "DTC_model = DecisionTreeClassifier(random_state=42)\n",
    "print(\"Decision Trees\")\n",
    "classification_model(DTC_model)\n",
    "#Random Forest\n",
    "RF_model = RandomForestClassifier(n_estimators=100, random_state=42)\n",
    "print(\"Random Forest\")\n",
    "classification_model(RF_model)\n",
    "#Support Vector Machines (SVM)\n",
    "\n",
    "#K-Nearest Neighbors (K-NN)\n",
    "KNN_model = KNeighborsClassifier(n_neighbors=3)\n",
    "print(\"K-Nearest Neighbors\")\n",
    "classification_model(KNN_model)\n",
    "#Naive Bayes\n",
    "GNB_model = GaussianNB()\n",
    "print(\"Naive Bayes\")\n",
    "classification_model(GNB_model)\n",
    "#Neural Networks\n",
    "#Gradient Boosting\n",
    "GNB_model = model = GradientBoostingClassifier()\n",
    "print(\"Gradient Boosting\")\n",
    "classification_model(GNB_model)\n",
    "#Linear Discriminant Analysis (LDA)\n",
    "#Quadratic Discriminant Analysis (QDA)\n",
    "#Gaussian Processes\n",
    "#Ensemble Methods"
   ]
  },
  {
   "cell_type": "code",
   "execution_count": null,
   "id": "f3a4da44-afd3-498c-8e3e-4d8eebbe6092",
   "metadata": {},
   "outputs": [],
   "source": [
    "SVC_model = SVC(kernel='linear', random_state=42)\n",
    "classification_model(SVC_model)"
   ]
  },
  {
   "cell_type": "code",
   "execution_count": 7,
   "id": "7fc5e427-5d1c-4e3c-b045-a2f8d0f3e9e3",
   "metadata": {},
   "outputs": [
    {
     "name": "stdout",
     "output_type": "stream",
     "text": [
      "Accuracy: 0.82\n",
      "              precision    recall  f1-score   support\n",
      "\n",
      "       False       0.84      0.94      0.89     23642\n",
      "        True       0.65      0.40      0.49      6887\n",
      "\n",
      "    accuracy                           0.82     30529\n",
      "   macro avg       0.75      0.67      0.69     30529\n",
      "weighted avg       0.80      0.82      0.80     30529\n",
      "\n",
      "Confusion Matrix:\n",
      "[[22149  1493]\n",
      " [ 4132  2755]]\n"
     ]
    }
   ],
   "source": [
    "GNB_model = model = GradientBoostingClassifier()\n",
    "classification_model(GNB_model)"
   ]
  },
  {
   "cell_type": "code",
   "execution_count": null,
   "id": "dbf21d69-b5dc-47bb-a458-3caa35fed903",
   "metadata": {},
   "outputs": [],
   "source": []
  }
 ],
 "metadata": {
  "kernelspec": {
   "display_name": "Python 3 (ipykernel)",
   "language": "python",
   "name": "python3"
  },
  "language_info": {
   "codemirror_mode": {
    "name": "ipython",
    "version": 3
   },
   "file_extension": ".py",
   "mimetype": "text/x-python",
   "name": "python",
   "nbconvert_exporter": "python",
   "pygments_lexer": "ipython3",
   "version": "3.11.5"
  }
 },
 "nbformat": 4,
 "nbformat_minor": 5
}
